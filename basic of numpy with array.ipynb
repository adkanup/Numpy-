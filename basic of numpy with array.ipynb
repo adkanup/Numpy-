{
 "cells": [
  {
   "cell_type": "code",
   "execution_count": 1,
   "id": "851e62f0",
   "metadata": {},
   "outputs": [],
   "source": [
    "import numpy as np\n"
   ]
  },
  {
   "cell_type": "code",
   "execution_count": 3,
   "id": "cce73576",
   "metadata": {},
   "outputs": [],
   "source": [
    "n1=np.array([10,20,30,40,50])\n"
   ]
  },
  {
   "cell_type": "code",
   "execution_count": 4,
   "id": "395e7675",
   "metadata": {},
   "outputs": [
    {
     "data": {
      "text/plain": [
       "array([10, 20, 30, 40, 50])"
      ]
     },
     "execution_count": 4,
     "metadata": {},
     "output_type": "execute_result"
    }
   ],
   "source": [
    "n1"
   ]
  },
  {
   "cell_type": "code",
   "execution_count": 24,
   "id": "392616fe",
   "metadata": {},
   "outputs": [
    {
     "data": {
      "text/plain": [
       "array([[4, 5, 6],\n",
       "       [7, 8, 9]])"
      ]
     },
     "execution_count": 24,
     "metadata": {},
     "output_type": "execute_result"
    }
   ],
   "source": [
    "nn1=np.array([[4,5,6],[7,8,9]])\n",
    "nn1"
   ]
  },
  {
   "cell_type": "code",
   "execution_count": 22,
   "id": "4e0cb105",
   "metadata": {},
   "outputs": [],
   "source": [
    "n2=np.array([[1,2,3,4],[5,6,7,8]])"
   ]
  },
  {
   "cell_type": "code",
   "execution_count": 10,
   "id": "a2d4b8d4",
   "metadata": {},
   "outputs": [
    {
     "data": {
      "text/plain": [
       "array([[1, 2, 3, 4],\n",
       "       [5, 6, 7, 8]])"
      ]
     },
     "execution_count": 10,
     "metadata": {},
     "output_type": "execute_result"
    }
   ],
   "source": [
    "n2"
   ]
  },
  {
   "cell_type": "code",
   "execution_count": 11,
   "id": "2d71364d",
   "metadata": {},
   "outputs": [],
   "source": [
    "#initializing numpy with zero \n"
   ]
  },
  {
   "cell_type": "code",
   "execution_count": 12,
   "id": "cff7d44e",
   "metadata": {},
   "outputs": [],
   "source": [
    "n3=np.zeros((1,2))"
   ]
  },
  {
   "cell_type": "code",
   "execution_count": 13,
   "id": "abec2692",
   "metadata": {},
   "outputs": [
    {
     "data": {
      "text/plain": [
       "array([[0., 0.]])"
      ]
     },
     "execution_count": 13,
     "metadata": {},
     "output_type": "execute_result"
    }
   ],
   "source": [
    "n3"
   ]
  },
  {
   "cell_type": "code",
   "execution_count": 14,
   "id": "792f9c3b",
   "metadata": {},
   "outputs": [],
   "source": [
    "n4=np.zeros((5,5))"
   ]
  },
  {
   "cell_type": "code",
   "execution_count": 15,
   "id": "6f9c1e5e",
   "metadata": {},
   "outputs": [
    {
     "data": {
      "text/plain": [
       "array([[0., 0., 0., 0., 0.],\n",
       "       [0., 0., 0., 0., 0.],\n",
       "       [0., 0., 0., 0., 0.],\n",
       "       [0., 0., 0., 0., 0.],\n",
       "       [0., 0., 0., 0., 0.]])"
      ]
     },
     "execution_count": 15,
     "metadata": {},
     "output_type": "execute_result"
    }
   ],
   "source": [
    "n4"
   ]
  },
  {
   "cell_type": "code",
   "execution_count": 16,
   "id": "66afee11",
   "metadata": {},
   "outputs": [],
   "source": [
    "#initializing array with same number #using npwithfull"
   ]
  },
  {
   "cell_type": "code",
   "execution_count": 17,
   "id": "4a4231bc",
   "metadata": {},
   "outputs": [
    {
     "data": {
      "text/plain": [
       "array([[10, 10],\n",
       "       [10, 10]])"
      ]
     },
     "execution_count": 17,
     "metadata": {},
     "output_type": "execute_result"
    }
   ],
   "source": [
    "n5=np.full((2,2),10)\n",
    "n5"
   ]
  },
  {
   "cell_type": "code",
   "execution_count": 18,
   "id": "05617527",
   "metadata": {},
   "outputs": [],
   "source": [
    "#using np with full\n"
   ]
  },
  {
   "cell_type": "code",
   "execution_count": 19,
   "id": "246a0d04",
   "metadata": {},
   "outputs": [
    {
     "data": {
      "text/plain": [
       "array([[100, 100, 100, 100, 100, 100, 100, 100],\n",
       "       [100, 100, 100, 100, 100, 100, 100, 100],\n",
       "       [100, 100, 100, 100, 100, 100, 100, 100],\n",
       "       [100, 100, 100, 100, 100, 100, 100, 100],\n",
       "       [100, 100, 100, 100, 100, 100, 100, 100],\n",
       "       [100, 100, 100, 100, 100, 100, 100, 100],\n",
       "       [100, 100, 100, 100, 100, 100, 100, 100],\n",
       "       [100, 100, 100, 100, 100, 100, 100, 100],\n",
       "       [100, 100, 100, 100, 100, 100, 100, 100]])"
      ]
     },
     "execution_count": 19,
     "metadata": {},
     "output_type": "execute_result"
    }
   ],
   "source": [
    "n6=np.full((9,8),100)\n",
    "n6\n"
   ]
  },
  {
   "cell_type": "code",
   "execution_count": 25,
   "id": "f8aa785d",
   "metadata": {},
   "outputs": [],
   "source": [
    "#initialize numpy with a range"
   ]
  },
  {
   "cell_type": "code",
   "execution_count": 26,
   "id": "74f3e9ad",
   "metadata": {},
   "outputs": [
    {
     "data": {
      "text/plain": [
       "array([ 1,  2,  3,  4,  5,  6,  7,  8,  9, 10, 11, 12, 13, 14, 15, 16, 17,\n",
       "       18, 19, 20, 21, 22, 23, 24, 25, 26, 27, 28, 29, 30, 31, 32, 33, 34,\n",
       "       35, 36, 37, 38, 39, 40, 41, 42, 43, 44, 45, 46, 47, 48, 49, 50, 51,\n",
       "       52, 53, 54, 55, 56, 57, 58, 59, 60, 61, 62, 63, 64, 65, 66, 67, 68,\n",
       "       69, 70, 71, 72, 73, 74, 75, 76, 77, 78, 79, 80, 81, 82, 83, 84, 85,\n",
       "       86, 87, 88, 89, 90, 91, 92, 93, 94, 95, 96, 97, 98, 99])"
      ]
     },
     "execution_count": 26,
     "metadata": {},
     "output_type": "execute_result"
    }
   ],
   "source": [
    "n7=np.arange(1,100)\n",
    "n7"
   ]
  },
  {
   "cell_type": "code",
   "execution_count": 29,
   "id": "cb76ee3b",
   "metadata": {},
   "outputs": [
    {
     "data": {
      "text/plain": [
       "array([1, 3])"
      ]
     },
     "execution_count": 29,
     "metadata": {},
     "output_type": "execute_result"
    }
   ],
   "source": [
    "n8=np.arange(1,5,2)\n",
    "n8"
   ]
  },
  {
   "cell_type": "code",
   "execution_count": 37,
   "id": "67057e00",
   "metadata": {},
   "outputs": [
    {
     "data": {
      "text/plain": [
       "array([0, 2, 4, 6, 8])"
      ]
     },
     "execution_count": 37,
     "metadata": {},
     "output_type": "execute_result"
    }
   ],
   "source": [
    "n9=np.arange(0,10,2)\n",
    "n9"
   ]
  },
  {
   "cell_type": "code",
   "execution_count": 38,
   "id": "4e109135",
   "metadata": {},
   "outputs": [],
   "source": [
    "#Initializing np with random"
   ]
  },
  {
   "cell_type": "code",
   "execution_count": 42,
   "id": "ab4a2531",
   "metadata": {},
   "outputs": [
    {
     "data": {
      "text/plain": [
       "array([16919, 12115, 10219, 17031,  1446,  2390, 27603, 26580, 18236,\n",
       "        5510,  9346, 16168,  9679, 29710, 18905,  2429, 16776, 21241,\n",
       "        7099,  9763, 24390, 10427, 23727, 10023,  7153, 15820, 18901,\n",
       "       18040,  7109, 22767, 12449, 26890,  1558, 18752,  2324, 13825,\n",
       "        7795,  5923,  9113, 25578,  3156, 28692,  2280, 15397, 23558,\n",
       "        2012,  1729, 10099, 29906, 29526,  9482,  6647, 20963, 29870,\n",
       "       21035,  2951,  9995, 19732, 12466,  7829,  3719, 13046,  4702,\n",
       "       25014, 13355, 25221, 19477, 21467,  3649,  8037, 29300,  5714,\n",
       "        2746, 25260,  8474, 25855, 16292,  6523,   828,  8887, 27810,\n",
       "        7414, 23415, 14211, 18787, 13936, 22340, 15769,  7552,  7904,\n",
       "       13845, 16946, 23432, 27111, 18053, 19245, 20722, 11187, 23198,\n",
       "        6669,  6403, 13682, 29224,  6989, 28412, 27429, 26200,  3524,\n",
       "       27646,  6750,  4441, 13053, 15013, 14551, 28358, 28052,  7275,\n",
       "       18705, 23831,  6526, 19687, 12007,  7128, 20300, 17996, 19552,\n",
       "       16240, 11699, 12385, 25159, 20511, 16915,  7615,  1785, 29035,\n",
       "       22268, 17849,  1520,  1095, 18815, 29175,  4483, 25548, 26046,\n",
       "       14306, 20937,  2098,  7427,  1459, 19439,  7089, 18313, 19949,\n",
       "        8587, 26841, 19366, 24392,  3164,  2118,  4407, 17057,  4769,\n",
       "       24429, 10109, 27738, 11527, 18232,  4254, 29308,  1246, 15322,\n",
       "        3559, 19899, 16089,  9772, 26771, 23553,  8389, 20899,  2165,\n",
       "       12952, 20654, 13719,  8380,  8767, 16302, 15759,  3097,  7423,\n",
       "        4000, 17364, 10431, 24463, 17151, 14800, 29152, 19292,  6497,\n",
       "        1484,  4090, 23720, 16874, 14121, 26016,  9595, 23331, 24371,\n",
       "        2013, 15168, 27104, 29660, 25147, 28879,  3480, 13861,  5018,\n",
       "        7271, 13293,  9329, 26540, 20255,  1307, 13206,  5222, 19133,\n",
       "       22448, 26169, 15423,  7114, 13496, 22820, 21779, 23130, 26994,\n",
       "       14832, 13519, 14721, 22438, 29440,  6870,  9114, 21467, 16936,\n",
       "        4722, 26376,  1758, 26884, 21177, 29227,  4758, 24937,  6801,\n",
       "        8611,  6871,   960, 11712,  1530, 27934, 15238, 25315, 27317,\n",
       "       27504, 22719,  4635, 29752,  6505, 13218, 11732, 22700,  4374,\n",
       "       22321, 24157,  3398, 22385, 15752, 22457,  8098,  8965, 25547,\n",
       "        9996, 11216, 12332, 23970, 19625, 14140, 10833, 13950, 15347,\n",
       "       21191, 12369, 25504, 15284, 25811, 19180,  6383, 18593,  3297,\n",
       "        4549, 19455,  3374,  4651,  9183, 11424, 19528,  9472, 27401,\n",
       "       27042, 22372, 24203, 23033, 23650,  8097, 13711,  8470, 24630,\n",
       "        1594, 29608, 25063, 24268, 10386, 19884, 27345, 26110, 10854,\n",
       "        3058,  8714, 11353, 27070, 10518, 28410, 19104,  3673, 18889,\n",
       "       29393, 22408, 28336, 20714, 12123, 13779, 24934, 18743,  1344,\n",
       "       23169, 20666, 10115, 16132, 24374, 11424,  4818, 28883, 12931,\n",
       "       23805,  2301, 25786,  2975, 27110, 20659,  4455, 22301, 10259,\n",
       "       14493, 20499,  2744, 19216, 21623, 21878, 19957, 11760, 24340,\n",
       "       21230, 13709,   232,  1931, 10400,  5729, 22300, 27793, 10526,\n",
       "         500, 29127, 17347,  7003,  2866, 17793,  8888,  7002, 14293,\n",
       "       18970, 21080, 25195, 27597, 21379, 29164, 18310, 10651,  7800,\n",
       "        4417, 12201, 15989, 15093, 17167,  3451,  8591, 17013, 11603,\n",
       "       26311, 23205,  1092, 12803, 23253, 12315, 29585, 15556, 17995,\n",
       "       22345,  1694,  2601, 21722,  9754, 22295, 23844, 11489,  4332,\n",
       "       25649, 16117,  2073,  9459,   439, 26441, 13388, 22708, 20581,\n",
       "       18646, 27834, 14976, 19881, 17696,   574, 10722, 25074, 20162,\n",
       "       22820, 25723, 12333,  8958,  2515,  1659, 14820, 17671,  7154,\n",
       "       21791, 28290, 25459, 29442, 21427,  5524, 21773, 18087,  7988,\n",
       "       10200, 20985, 11010, 29641, 21067,  6380,  6633, 15986, 10466,\n",
       "         312, 10349,   486,   775, 29701, 13751, 20065, 17552, 23860,\n",
       "       14456, 24372,   871,  9370, 14274, 24090, 24816,  9497, 15347,\n",
       "        5435,  8572, 16021, 25167, 24835,  4052,  8595, 21632,  1510,\n",
       "       23932, 13099,  8646,  4255,  1221])"
      ]
     },
     "execution_count": 42,
     "metadata": {},
     "output_type": "execute_result"
    }
   ],
   "source": [
    "nrandom=np.random.randint(1,30000,500)\n",
    "nrandom"
   ]
  },
  {
   "cell_type": "code",
   "execution_count": null,
   "id": "8f7ad876",
   "metadata": {},
   "outputs": [],
   "source": []
  },
  {
   "cell_type": "code",
   "execution_count": null,
   "id": "03a42bdb",
   "metadata": {},
   "outputs": [],
   "source": []
  }
 ],
 "metadata": {
  "kernelspec": {
   "display_name": "Python 3 (ipykernel)",
   "language": "python",
   "name": "python3"
  },
  "language_info": {
   "codemirror_mode": {
    "name": "ipython",
    "version": 3
   },
   "file_extension": ".py",
   "mimetype": "text/x-python",
   "name": "python",
   "nbconvert_exporter": "python",
   "pygments_lexer": "ipython3",
   "version": "3.11.3"
  }
 },
 "nbformat": 4,
 "nbformat_minor": 5
}

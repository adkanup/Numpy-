{
 "cells": [
  {
   "cell_type": "code",
   "execution_count": 1,
   "id": "0e682251",
   "metadata": {},
   "outputs": [],
   "source": [
    "import numpy as np\n",
    "\n"
   ]
  },
  {
   "cell_type": "code",
   "execution_count": null,
   "id": "501fe6ef",
   "metadata": {},
   "outputs": [],
   "source": [
    "#for shape of array"
   ]
  },
  {
   "cell_type": "code",
   "execution_count": 9,
   "id": "3020f845",
   "metadata": {},
   "outputs": [
    {
     "data": {
      "text/plain": [
       "(2, 4)"
      ]
     },
     "execution_count": 9,
     "metadata": {},
     "output_type": "execute_result"
    }
   ],
   "source": [
    "n1=np.array([[1,2,3,4],[2,3,4,5]])\n",
    "n1.shape"
   ]
  },
  {
   "cell_type": "code",
   "execution_count": 16,
   "id": "fab52753",
   "metadata": {},
   "outputs": [
    {
     "data": {
      "text/plain": [
       "array([[1, 2],\n",
       "       [3, 4],\n",
       "       [2, 3],\n",
       "       [4, 5]])"
      ]
     },
     "execution_count": 16,
     "metadata": {},
     "output_type": "execute_result"
    }
   ],
   "source": [
    "n1.shape=(4,2)\n",
    "n1"
   ]
  },
  {
   "cell_type": "code",
   "execution_count": null,
   "id": "ebc7468e",
   "metadata": {},
   "outputs": [],
   "source": [
    "# for vstack(),nkstack(),columnstack()"
   ]
  },
  {
   "cell_type": "code",
   "execution_count": 17,
   "id": "e3e1cbe2",
   "metadata": {},
   "outputs": [],
   "source": [
    "n2=np.array([10,20,30])\n",
    "n3=np.array([40,50,60])\n"
   ]
  },
  {
   "cell_type": "code",
   "execution_count": 19,
   "id": "006f85b8",
   "metadata": {},
   "outputs": [
    {
     "data": {
      "text/plain": [
       "array([[10, 20, 30],\n",
       "       [40, 50, 60]])"
      ]
     },
     "execution_count": 19,
     "metadata": {},
     "output_type": "execute_result"
    }
   ],
   "source": [
    "np.vstack((n2,n3))"
   ]
  },
  {
   "cell_type": "code",
   "execution_count": 21,
   "id": "890c5b43",
   "metadata": {},
   "outputs": [
    {
     "data": {
      "text/plain": [
       "array([10, 20, 30, 40, 50, 60])"
      ]
     },
     "execution_count": 21,
     "metadata": {},
     "output_type": "execute_result"
    }
   ],
   "source": [
    "np.hstack((n2,n3))"
   ]
  },
  {
   "cell_type": "code",
   "execution_count": 24,
   "id": "b906d269",
   "metadata": {},
   "outputs": [
    {
     "data": {
      "text/plain": [
       "array([[10, 40],\n",
       "       [20, 50],\n",
       "       [30, 60]])"
      ]
     },
     "execution_count": 24,
     "metadata": {},
     "output_type": "execute_result"
    }
   ],
   "source": [
    "np.column_stack((n2,n3))\n"
   ]
  },
  {
   "cell_type": "code",
   "execution_count": 26,
   "id": "9bc894c0",
   "metadata": {},
   "outputs": [
    {
     "data": {
      "text/plain": [
       "array([70])"
      ]
     },
     "execution_count": 26,
     "metadata": {},
     "output_type": "execute_result"
    }
   ],
   "source": [
    "n4=np.array([40,50,60,70])\n",
    "n5=np.array([70,80,90,100])\n",
    "np.intersect1d(n4,n5)\n"
   ]
  },
  {
   "cell_type": "code",
   "execution_count": 27,
   "id": "e8c0efe4",
   "metadata": {},
   "outputs": [
    {
     "data": {
      "text/plain": [
       "array([40, 50, 60])"
      ]
     },
     "execution_count": 27,
     "metadata": {},
     "output_type": "execute_result"
    }
   ],
   "source": [
    "np.setdiff1d(n4,n5)"
   ]
  },
  {
   "cell_type": "code",
   "execution_count": 28,
   "id": "4f2eec6b",
   "metadata": {},
   "outputs": [
    {
     "data": {
      "text/plain": [
       "array([ 80,  90, 100])"
      ]
     },
     "execution_count": 28,
     "metadata": {},
     "output_type": "execute_result"
    }
   ],
   "source": [
    "np.setdiff1d(n5,n4)"
   ]
  },
  {
   "cell_type": "code",
   "execution_count": null,
   "id": "e5758ed2",
   "metadata": {},
   "outputs": [],
   "source": []
  }
 ],
 "metadata": {
  "kernelspec": {
   "display_name": "Python 3 (ipykernel)",
   "language": "python",
   "name": "python3"
  },
  "language_info": {
   "codemirror_mode": {
    "name": "ipython",
    "version": 3
   },
   "file_extension": ".py",
   "mimetype": "text/x-python",
   "name": "python",
   "nbconvert_exporter": "python",
   "pygments_lexer": "ipython3",
   "version": "3.11.3"
  }
 },
 "nbformat": 4,
 "nbformat_minor": 5
}
